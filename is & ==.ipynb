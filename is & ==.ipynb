{
 "cells": [
  {
   "cell_type": "code",
   "execution_count": 1,
   "metadata": {
    "ExecuteTime": {
     "end_time": "2018-01-24T02:59:53.482227Z",
     "start_time": "2018-01-24T02:59:53.479114Z"
    }
   },
   "outputs": [],
   "source": [
    "import dis"
   ]
  },
  {
   "cell_type": "code",
   "execution_count": 2,
   "metadata": {
    "ExecuteTime": {
     "end_time": "2018-01-24T03:00:05.753375Z",
     "start_time": "2018-01-24T03:00:05.750730Z"
    }
   },
   "outputs": [],
   "source": [
    "c = 257"
   ]
  },
  {
   "cell_type": "code",
   "execution_count": 3,
   "metadata": {
    "ExecuteTime": {
     "end_time": "2018-01-24T03:00:34.182505Z",
     "start_time": "2018-01-24T03:00:34.176653Z"
    }
   },
   "outputs": [],
   "source": [
    "def foo():\n",
    "    a = 257\n",
    "    b = 257\n",
    "    print a is b\n",
    "    print a is c"
   ]
  },
  {
   "cell_type": "code",
   "execution_count": 4,
   "metadata": {
    "ExecuteTime": {
     "end_time": "2018-01-24T03:00:38.660900Z",
     "start_time": "2018-01-24T03:00:38.656840Z"
    }
   },
   "outputs": [
    {
     "name": "stdout",
     "output_type": "stream",
     "text": [
      "True\n",
      "False\n"
     ]
    }
   ],
   "source": [
    "foo()"
   ]
  },
  {
   "cell_type": "code",
   "execution_count": 6,
   "metadata": {
    "ExecuteTime": {
     "end_time": "2018-01-24T03:01:10.290410Z",
     "start_time": "2018-01-24T03:01:10.271773Z"
    }
   },
   "outputs": [
    {
     "name": "stdout",
     "output_type": "stream",
     "text": [
      "  2           0 LOAD_CONST               1 (257)\n",
      "              3 STORE_FAST               0 (a)\n",
      "\n",
      "  3           6 LOAD_CONST               1 (257)\n",
      "              9 STORE_FAST               1 (b)\n",
      "\n",
      "  4          12 LOAD_FAST                0 (a)\n",
      "             15 LOAD_FAST                1 (b)\n",
      "             18 COMPARE_OP               8 (is)\n",
      "             21 PRINT_ITEM          \n",
      "             22 PRINT_NEWLINE       \n",
      "\n",
      "  5          23 LOAD_FAST                0 (a)\n",
      "             26 LOAD_GLOBAL              0 (c)\n",
      "             29 COMPARE_OP               8 (is)\n",
      "             32 PRINT_ITEM          \n",
      "             33 PRINT_NEWLINE       \n",
      "             34 LOAD_CONST               0 (None)\n",
      "             37 RETURN_VALUE        \n"
     ]
    }
   ],
   "source": [
    "dis.dis(foo)"
   ]
  },
  {
   "cell_type": "code",
   "execution_count": 10,
   "metadata": {
    "ExecuteTime": {
     "end_time": "2018-01-24T03:21:49.819385Z",
     "start_time": "2018-01-24T03:21:49.813977Z"
    }
   },
   "outputs": [],
   "source": [
    "aList = [123, 'xyz', 'zara', 'abc', 123];\n",
    "bList = [2009, 'manni'];\n",
    "aList.append(bList)"
   ]
  },
  {
   "cell_type": "code",
   "execution_count": 11,
   "metadata": {
    "ExecuteTime": {
     "end_time": "2018-01-24T03:21:51.085378Z",
     "start_time": "2018-01-24T03:21:51.080029Z"
    }
   },
   "outputs": [
    {
     "data": {
      "text/plain": [
       "[123, 'xyz', 'zara', 'abc', 123, [2009, 'manni']]"
      ]
     },
     "execution_count": 11,
     "metadata": {},
     "output_type": "execute_result"
    }
   ],
   "source": [
    "aList"
   ]
  },
  {
   "cell_type": "code",
   "execution_count": null,
   "metadata": {},
   "outputs": [],
   "source": [
    "bList.append()"
   ]
  }
 ],
 "metadata": {
  "kernelspec": {
   "display_name": "Python 2",
   "language": "python",
   "name": "python2"
  },
  "language_info": {
   "codemirror_mode": {
    "name": "ipython",
    "version": 2
   },
   "file_extension": ".py",
   "mimetype": "text/x-python",
   "name": "python",
   "nbconvert_exporter": "python",
   "pygments_lexer": "ipython2",
   "version": "2.7.12"
  },
  "nbTranslate": {
   "displayLangs": [
    "*"
   ],
   "hotkey": "alt-t",
   "langInMainMenu": true,
   "sourceLang": "en",
   "targetLang": "fr",
   "useGoogleTranslate": true
  },
  "toc": {
   "nav_menu": {},
   "number_sections": true,
   "sideBar": true,
   "skip_h1_title": true,
   "toc_cell": false,
   "toc_position": {},
   "toc_section_display": "block",
   "toc_window_display": false
  },
  "varInspector": {
   "cols": {
    "lenName": 16,
    "lenType": 16,
    "lenVar": 40
   },
   "kernels_config": {
    "python": {
     "delete_cmd_postfix": "",
     "delete_cmd_prefix": "del ",
     "library": "var_list.py",
     "varRefreshCmd": "print(var_dic_list())"
    },
    "r": {
     "delete_cmd_postfix": ") ",
     "delete_cmd_prefix": "rm(",
     "library": "var_list.r",
     "varRefreshCmd": "cat(var_dic_list()) "
    }
   },
   "types_to_exclude": [
    "module",
    "function",
    "builtin_function_or_method",
    "instance",
    "_Feature"
   ],
   "window_display": false
  }
 },
 "nbformat": 4,
 "nbformat_minor": 2
}
