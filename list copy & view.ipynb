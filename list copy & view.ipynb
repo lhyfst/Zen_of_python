{
 "cells": [
  {
   "cell_type": "markdown",
   "metadata": {},
   "source": [
    "b = a 是一种视图，两者指向同一个对象"
   ]
  },
  {
   "cell_type": "code",
   "execution_count": 1,
   "metadata": {
    "ExecuteTime": {
     "end_time": "2018-01-24T04:44:33.010706Z",
     "start_time": "2018-01-24T04:44:33.005420Z"
    }
   },
   "outputs": [
    {
     "name": "stdout",
     "output_type": "stream",
     "text": [
      "[1, 2, 3, 4]\n",
      "[1, 2, 3, 4]\n"
     ]
    }
   ],
   "source": [
    "a = [1, 2, 3]\n",
    "b = a\n",
    "a.append(4)\n",
    "print a\n",
    "print b"
   ]
  },
  {
   "cell_type": "markdown",
   "metadata": {},
   "source": [
    "内建函数id()可以返回对象的唯一id。该id是对象的内存地址。"
   ]
  },
  {
   "cell_type": "code",
   "execution_count": 2,
   "metadata": {
    "ExecuteTime": {
     "end_time": "2018-01-24T04:45:33.884009Z",
     "start_time": "2018-01-24T04:45:33.879323Z"
    }
   },
   "outputs": [
    {
     "name": "stdout",
     "output_type": "stream",
     "text": [
      "140428056548992\n",
      "140428056548992\n"
     ]
    }
   ],
   "source": [
    "print id(a)\n",
    "print id(b)"
   ]
  },
  {
   "cell_type": "markdown",
   "metadata": {},
   "source": [
    "切片返回一个新的list"
   ]
  },
  {
   "cell_type": "code",
   "execution_count": 3,
   "metadata": {
    "ExecuteTime": {
     "end_time": "2018-01-24T04:46:45.746819Z",
     "start_time": "2018-01-24T04:46:45.742031Z"
    }
   },
   "outputs": [
    {
     "name": "stdout",
     "output_type": "stream",
     "text": [
      "140428056548992\n",
      "140428056378760\n"
     ]
    }
   ],
   "source": [
    "c = a[:]\n",
    "print id(a)\n",
    "print id(c)"
   ]
  },
  {
   "cell_type": "code",
   "execution_count": 4,
   "metadata": {
    "ExecuteTime": {
     "end_time": "2018-01-24T04:46:51.780943Z",
     "start_time": "2018-01-24T04:46:51.766653Z"
    }
   },
   "outputs": [
    {
     "data": {
      "text/plain": [
       "[1, 2, 3, 4]"
      ]
     },
     "execution_count": 4,
     "metadata": {},
     "output_type": "execute_result"
    }
   ],
   "source": [
    "c"
   ]
  },
  {
   "cell_type": "markdown",
   "metadata": {},
   "source": [
    "attention:切片返回的是浅拷贝"
   ]
  },
  {
   "cell_type": "code",
   "execution_count": 25,
   "metadata": {
    "ExecuteTime": {
     "end_time": "2018-01-24T05:45:56.325205Z",
     "start_time": "2018-01-24T05:45:56.318815Z"
    }
   },
   "outputs": [
    {
     "name": "stdout",
     "output_type": "stream",
     "text": [
      "[[1, 2, 5], 3, 6]\n",
      "[[1, 2, 5], 3]\n"
     ]
    }
   ],
   "source": [
    "x = [[1,2],3]\n",
    "\n",
    "y = x[:]\n",
    "\n",
    "x[0].append(5)\n",
    "x.append(6)\n",
    "\n",
    "print x\n",
    "print y"
   ]
  },
  {
   "cell_type": "markdown",
   "metadata": {},
   "source": [
    "list()函数返回一个新的列表"
   ]
  },
  {
   "cell_type": "code",
   "execution_count": 5,
   "metadata": {
    "ExecuteTime": {
     "end_time": "2018-01-24T04:49:04.667403Z",
     "start_time": "2018-01-24T04:49:04.654929Z"
    }
   },
   "outputs": [
    {
     "name": "stdout",
     "output_type": "stream",
     "text": [
      "[1, 2, 3]\n",
      "140428126599680\n",
      "140428056598144\n"
     ]
    }
   ],
   "source": [
    "my_tuple = (1,2,3)\n",
    "my_list = list(my_tuple)\n",
    "print my_list\n",
    "print id(my_tuple)\n",
    "print id(my_list)"
   ]
  },
  {
   "cell_type": "code",
   "execution_count": 6,
   "metadata": {
    "ExecuteTime": {
     "end_time": "2018-01-24T04:50:15.048229Z",
     "start_time": "2018-01-24T04:50:15.038607Z"
    }
   },
   "outputs": [
    {
     "name": "stdout",
     "output_type": "stream",
     "text": [
      "[1, 2, 3]\n",
      "140428056598144\n",
      "140428056599152\n"
     ]
    }
   ],
   "source": [
    "my_list1 = list(my_tuple)\n",
    "print my_list1\n",
    "print id(my_list)\n",
    "print id(my_list1)"
   ]
  },
  {
   "cell_type": "markdown",
   "metadata": {
    "ExecuteTime": {
     "end_time": "2018-01-24T04:51:20.875823Z",
     "start_time": "2018-01-24T04:51:20.871119Z"
    }
   },
   "source": [
    "list()还可以接受生成器（好东西！），而切片法不行"
   ]
  },
  {
   "cell_type": "code",
   "execution_count": 8,
   "metadata": {
    "ExecuteTime": {
     "end_time": "2018-01-24T04:52:12.085324Z",
     "start_time": "2018-01-24T04:52:12.080111Z"
    }
   },
   "outputs": [
    {
     "data": {
      "text/plain": [
       "[0, 3, 6, 9]"
      ]
     },
     "execution_count": 8,
     "metadata": {},
     "output_type": "execute_result"
    }
   ],
   "source": [
    "generator = (x * 3 for x in range(4))\n",
    "list(generator)"
   ]
  },
  {
   "cell_type": "markdown",
   "metadata": {},
   "source": [
    "copy!"
   ]
  },
  {
   "cell_type": "markdown",
   "metadata": {},
   "source": [
    "浅拷贝"
   ]
  },
  {
   "cell_type": "code",
   "execution_count": 9,
   "metadata": {
    "ExecuteTime": {
     "end_time": "2018-01-24T04:57:01.221427Z",
     "start_time": "2018-01-24T04:57:01.218398Z"
    }
   },
   "outputs": [],
   "source": [
    "import copy"
   ]
  },
  {
   "cell_type": "code",
   "execution_count": 10,
   "metadata": {
    "ExecuteTime": {
     "end_time": "2018-01-24T04:57:08.579186Z",
     "start_time": "2018-01-24T04:57:08.562931Z"
    }
   },
   "outputs": [
    {
     "name": "stdout",
     "output_type": "stream",
     "text": [
      "[[1, 2], 3, 4]\n",
      "[[1, 2], 3, 4]\n",
      "140428056548344\n",
      "140428056121216\n",
      "[[5, 2], 3, 4]\n",
      "[[5, 2], 3, 4]\n"
     ]
    }
   ],
   "source": [
    "aList=[[1,2],3,4]  \n",
    "bList=copy.copy(aList)  \n",
    "print aList  \n",
    "print bList  \n",
    "  \n",
    "print id(aList)  \n",
    "print id(bList)  \n",
    "  \n",
    "aList[0][0]=5  \n",
    "  \n",
    "print aList  \n",
    "print bList  "
   ]
  },
  {
   "cell_type": "markdown",
   "metadata": {},
   "source": [
    "由id(aList)不等于id(bList)，表明浅拷贝产生的对象本身是新的，但是它的子对象(即，那个列表)是对原子对象的一个引用。"
   ]
  },
  {
   "cell_type": "markdown",
   "metadata": {},
   "source": [
    "attention:如果对象本身是不可变的，那么浅拷贝时也是引用。"
   ]
  },
  {
   "cell_type": "code",
   "execution_count": 11,
   "metadata": {
    "ExecuteTime": {
     "end_time": "2018-01-24T05:00:02.359864Z",
     "start_time": "2018-01-24T05:00:02.340584Z"
    }
   },
   "outputs": [
    {
     "name": "stdout",
     "output_type": "stream",
     "text": [
      "[[1, 2], 3, 4]\n",
      "[[1, 2], 3, 4]\n",
      "15389000\n",
      "15389000\n",
      "[[0, 1, 1], 3, 5]\n",
      "[[1, 2], 3, 4]\n"
     ]
    }
   ],
   "source": [
    "aList=[[1,2],3,4]  \n",
    "bList=copy.copy(aList)  \n",
    "print aList  \n",
    "print bList  \n",
    "  \n",
    "print id(aList[1])  \n",
    "print id(bList[1])  \n",
    "  \n",
    "aList[2]=5#变量的对象引用改变了而已  \n",
    "aList[0]=[0,1,1]#变量的对象引用改变了而已  \n",
    "  \n",
    "print aList  \n",
    "print bList  "
   ]
  },
  {
   "cell_type": "markdown",
   "metadata": {},
   "source": [
    "总结，即浅拷贝产生的对象本身是新的，但是它的内容不是新的，只是对原子对象的一个引用。"
   ]
  },
  {
   "cell_type": "markdown",
   "metadata": {},
   "source": [
    "深拷贝"
   ]
  },
  {
   "cell_type": "markdown",
   "metadata": {},
   "source": [
    "深拷贝由copy模块中的deepcopy()函数实现，简单地说，深拷贝 拷贝对象及其子对象。"
   ]
  },
  {
   "cell_type": "code",
   "execution_count": 12,
   "metadata": {
    "ExecuteTime": {
     "end_time": "2018-01-24T05:29:03.592453Z",
     "start_time": "2018-01-24T05:29:03.570342Z"
    }
   },
   "outputs": [
    {
     "name": "stdout",
     "output_type": "stream",
     "text": [
      "[[1, 2], 3, 4]\n",
      "[[1, 2], 3, 4]\n",
      "[[1, 2], 3, 4]\n",
      "[[1, 2], 3, 4]\n",
      "140428056549712\n",
      "140428056549712\n",
      "140428056212904\n",
      "140428056211680\n",
      "[[1, 2, 'hello'], 3, 4, 5]\n",
      "[[1, 2, 'hello'], 3, 4, 5]\n",
      "[[1, 2, 'hello'], 3, 4]\n",
      "[[1, 2], 3, 4]\n"
     ]
    }
   ],
   "source": [
    "aList=[[1,2],3,4]  \n",
    "bList=aList  \n",
    "cList=copy.copy(aList)  \n",
    "dList=copy.deepcopy(aList)  \n",
    "print aList  \n",
    "print bList  \n",
    "print cList  \n",
    "print dList  \n",
    "print id(aList)  \n",
    "print id(bList)  \n",
    "print id(cList)  \n",
    "print id(dList)  \n",
    "aList.append(5)  \n",
    "aList[0].append('hello')  \n",
    "  \n",
    "print aList  \n",
    "print bList  \n",
    "print cList  \n",
    "print dList  "
   ]
  },
  {
   "cell_type": "markdown",
   "metadata": {
    "ExecuteTime": {
     "end_time": "2018-01-24T05:41:55.251257Z",
     "start_time": "2018-01-24T05:41:55.246815Z"
    }
   },
   "source": [
    "浅拷贝和深拷贝的效率有差别"
   ]
  },
  {
   "cell_type": "code",
   "execution_count": 15,
   "metadata": {
    "ExecuteTime": {
     "end_time": "2018-01-24T05:42:52.257348Z",
     "start_time": "2018-01-24T05:42:46.012094Z"
    }
   },
   "outputs": [
    {
     "name": "stdout",
     "output_type": "stream",
     "text": [
      "10 loops, best of 3: 542 µs per loop\n",
      "10 loops, best of 3: 189 ms per loop\n",
      "10 loops, best of 3: 582 µs per loop\n"
     ]
    }
   ],
   "source": [
    "a = range(100000)\n",
    "%timeit -n 10 copy.copy(a) # 运行10次 copy.copy(a)\n",
    "%timeit -n 10 copy.deepcopy(a)\n",
    "%timeit -n 10 a[:]"
   ]
  },
  {
   "cell_type": "markdown",
   "metadata": {
    "ExecuteTime": {
     "end_time": "2018-01-24T05:30:33.254572Z",
     "start_time": "2018-01-24T05:30:33.249689Z"
    }
   },
   "source": [
    "来源：http://www.cnblogs.com/ifantastic/p/3811145.html<br>\n",
    "    http://blog.csdn.net/u010367506/article/details/31736033"
   ]
  }
 ],
 "metadata": {
  "kernelspec": {
   "display_name": "Python 2",
   "language": "python",
   "name": "python2"
  },
  "language_info": {
   "codemirror_mode": {
    "name": "ipython",
    "version": 2
   },
   "file_extension": ".py",
   "mimetype": "text/x-python",
   "name": "python",
   "nbconvert_exporter": "python",
   "pygments_lexer": "ipython2",
   "version": "2.7.12"
  },
  "nbTranslate": {
   "displayLangs": [
    "*"
   ],
   "hotkey": "alt-t",
   "langInMainMenu": true,
   "sourceLang": "en",
   "targetLang": "fr",
   "useGoogleTranslate": true
  },
  "toc": {
   "nav_menu": {},
   "number_sections": true,
   "sideBar": true,
   "skip_h1_title": true,
   "toc_cell": false,
   "toc_position": {},
   "toc_section_display": "block",
   "toc_window_display": false
  },
  "varInspector": {
   "cols": {
    "lenName": 16,
    "lenType": 16,
    "lenVar": 40
   },
   "kernels_config": {
    "python": {
     "delete_cmd_postfix": "",
     "delete_cmd_prefix": "del ",
     "library": "var_list.py",
     "varRefreshCmd": "print(var_dic_list())"
    },
    "r": {
     "delete_cmd_postfix": ") ",
     "delete_cmd_prefix": "rm(",
     "library": "var_list.r",
     "varRefreshCmd": "cat(var_dic_list()) "
    }
   },
   "types_to_exclude": [
    "module",
    "function",
    "builtin_function_or_method",
    "instance",
    "_Feature"
   ],
   "window_display": false
  }
 },
 "nbformat": 4,
 "nbformat_minor": 2
}
