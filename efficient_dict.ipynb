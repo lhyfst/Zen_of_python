{
 "cells": [
  {
   "cell_type": "markdown",
   "metadata": {},
   "source": [
    "# Python：关于高效使用字典的清单"
   ]
  },
  {
   "cell_type": "markdown",
   "metadata": {},
   "source": [
    "## 用 in 关键字检查 key 是否存在"
   ]
  },
  {
   "cell_type": "code",
   "execution_count": 1,
   "metadata": {
    "ExecuteTime": {
     "end_time": "2018-04-22T08:30:43.048016Z",
     "start_time": "2018-04-22T08:30:43.044267Z"
    }
   },
   "outputs": [],
   "source": [
    "d = {'name':'python'}"
   ]
  },
  {
   "cell_type": "code",
   "execution_count": 2,
   "metadata": {
    "ExecuteTime": {
     "end_time": "2018-04-22T08:31:02.902719Z",
     "start_time": "2018-04-22T08:31:02.889849Z"
    }
   },
   "outputs": [
    {
     "name": "stdout",
     "output_type": "stream",
     "text": [
      "hh\n"
     ]
    }
   ],
   "source": [
    "# bad\n",
    "if d.has_key('name'):\n",
    "    print 'hh'"
   ]
  },
  {
   "cell_type": "code",
   "execution_count": 3,
   "metadata": {
    "ExecuteTime": {
     "end_time": "2018-04-22T08:31:57.891190Z",
     "start_time": "2018-04-22T08:31:57.887265Z"
    }
   },
   "outputs": [
    {
     "name": "stdout",
     "output_type": "stream",
     "text": [
      "gg\n"
     ]
    }
   ],
   "source": [
    "# good\n",
    "if 'name' in d:\n",
    "    print 'gg'"
   ]
  },
  {
   "cell_type": "markdown",
   "metadata": {},
   "source": [
    "## 用 get 获取字典中的值"
   ]
  },
  {
   "cell_type": "markdown",
   "metadata": {},
   "source": [
    "关于获取字典中的值，一种简单的方式就是用d.[x]访问该元素，但是这种情况在 key 不存在的情况下会报 KeyError 错误，当然你可以先用 in 操作检查 key 是否在字典中再获取，不过这种方式不符合 Python 之禅中说的：\n",
    "\n",
    "Simple is better than complex.\n",
    "Flat is better than nested.\n",
    "\n",
    "好的代码应该是简单易懂的，扁平的代码结构更加可读。我们可以使用 get 方法来代替 if … else"
   ]
  },
  {
   "cell_type": "code",
   "execution_count": 6,
   "metadata": {
    "ExecuteTime": {
     "end_time": "2018-04-22T08:36:16.905163Z",
     "start_time": "2018-04-22T08:36:16.895260Z"
    }
   },
   "outputs": [
    {
     "name": "stdout",
     "output_type": "stream",
     "text": [
      "python\n"
     ]
    }
   ],
   "source": [
    "# bad\n",
    "if 'name' in d:\n",
    "    print d['name']\n",
    "else:\n",
    "    print 'default'"
   ]
  },
  {
   "cell_type": "code",
   "execution_count": 7,
   "metadata": {
    "ExecuteTime": {
     "end_time": "2018-04-22T08:36:42.253808Z",
     "start_time": "2018-04-22T08:36:42.249746Z"
    }
   },
   "outputs": [
    {
     "name": "stdout",
     "output_type": "stream",
     "text": [
      "python\n"
     ]
    }
   ],
   "source": [
    "print d.get('name','default')"
   ]
  },
  {
   "cell_type": "markdown",
   "metadata": {},
   "source": [
    "## 用 setdefault 为字典中不存在的 key 设置缺省值"
   ]
  },
  {
   "cell_type": "code",
   "execution_count": 8,
   "metadata": {
    "ExecuteTime": {
     "end_time": "2018-04-22T08:37:12.223837Z",
     "start_time": "2018-04-22T08:37:12.219266Z"
    }
   },
   "outputs": [],
   "source": [
    "data = [\n",
    "        (\"animal\", \"bear\"),\n",
    "        (\"animal\", \"duck\"),\n",
    "        (\"plant\", \"cactus\"),\n",
    "        (\"vehicle\", \"speed boat\"),\n",
    "        (\"vehicle\", \"school bus\")\n",
    "    ]"
   ]
  },
  {
   "cell_type": "markdown",
   "metadata": {},
   "source": [
    "在做分类统计时，希望把同一类型的数据归到字典中的某种类型中，比如上面代码，把相同类型的事物用列表的形式重新组装，得到新的字典"
   ]
  },
  {
   "cell_type": "markdown",
   "metadata": {},
   "source": [
    "普通的方式就是先判断 key 是否已经存在，如果不存在则要先用列表对象进行初始化，再执行后续操作。而更好的方式就是使用字典中的 setdefault 方法。"
   ]
  },
  {
   "cell_type": "code",
   "execution_count": 18,
   "metadata": {
    "ExecuteTime": {
     "end_time": "2018-04-22T08:42:35.525641Z",
     "start_time": "2018-04-22T08:42:35.517602Z"
    }
   },
   "outputs": [],
   "source": [
    "# bad\n",
    "groups = {}\n",
    "for (key,value) in data:\n",
    "    if key in groups:\n",
    "        groups[key].append(value)\n",
    "    else:\n",
    "        groups[key] = [value]"
   ]
  },
  {
   "cell_type": "code",
   "execution_count": 19,
   "metadata": {
    "ExecuteTime": {
     "end_time": "2018-04-22T08:42:36.468351Z",
     "start_time": "2018-04-22T08:42:36.458953Z"
    }
   },
   "outputs": [
    {
     "data": {
      "text/plain": [
       "{'animal': ['bear', 'duck'],\n",
       " 'plant': ['cactus'],\n",
       " 'vehicle': ['speed boat', 'school bus']}"
      ]
     },
     "execution_count": 19,
     "metadata": {},
     "output_type": "execute_result"
    }
   ],
   "source": [
    "groups"
   ]
  },
  {
   "cell_type": "code",
   "execution_count": 20,
   "metadata": {
    "ExecuteTime": {
     "end_time": "2018-04-22T08:44:59.111575Z",
     "start_time": "2018-04-22T08:44:59.103561Z"
    }
   },
   "outputs": [],
   "source": [
    "# good\n",
    "groups = {}\n",
    "for (key,value) in data:\n",
    "    groups.setdefault(key,[]).append(value)"
   ]
  },
  {
   "cell_type": "code",
   "execution_count": 21,
   "metadata": {
    "ExecuteTime": {
     "end_time": "2018-04-22T08:45:03.558315Z",
     "start_time": "2018-04-22T08:45:03.547914Z"
    }
   },
   "outputs": [
    {
     "data": {
      "text/plain": [
       "{'animal': ['bear', 'duck'],\n",
       " 'plant': ['cactus'],\n",
       " 'vehicle': ['speed boat', 'school bus']}"
      ]
     },
     "execution_count": 21,
     "metadata": {},
     "output_type": "execute_result"
    }
   ],
   "source": [
    "groups"
   ]
  },
  {
   "cell_type": "markdown",
   "metadata": {},
   "source": [
    "setdefault的作用:\n",
    "\n",
    "    如果 key 存在于字典中，那么直接返回对应的值，等效于 get 方法\n",
    "    如果 key 不存在字典中，则会用 setdefault 中的第二个参数作为该 key 的值，再返回该值。"
   ]
  },
  {
   "cell_type": "markdown",
   "metadata": {},
   "source": [
    "## 用 defaultdict 初始化字典对象"
   ]
  },
  {
   "cell_type": "markdown",
   "metadata": {},
   "source": [
    "如果不希望 d[x] 在 x 不存在时报错，除了在获取元素时使用 get 方法之外，另外一种方式是用 collections 模块中的 defaultdict，在初始化字典的时候指定一个函数，其实 defaultdit 是 dict 的子类。"
   ]
  },
  {
   "cell_type": "code",
   "execution_count": 22,
   "metadata": {
    "ExecuteTime": {
     "end_time": "2018-04-22T08:49:05.434010Z",
     "start_time": "2018-04-22T08:49:05.429520Z"
    }
   },
   "outputs": [],
   "source": [
    "from collections import defaultdict\n",
    "\n",
    "groups = defaultdict(list)\n",
    "for (key,value) in data:\n",
    "    groups[key].append(value)"
   ]
  },
  {
   "cell_type": "markdown",
   "metadata": {},
   "source": [
    "## 用 fromkeys 将列表转换成字典"
   ]
  },
  {
   "cell_type": "code",
   "execution_count": 30,
   "metadata": {
    "ExecuteTime": {
     "end_time": "2018-04-22T08:52:40.857360Z",
     "start_time": "2018-04-22T08:52:40.852395Z"
    }
   },
   "outputs": [
    {
     "name": "stdout",
     "output_type": "stream",
     "text": [
      "{'i': [], 'u': [], 'e': [], 'a': [], 'o': []}\n"
     ]
    }
   ],
   "source": [
    "keys = {'a','e','i','o','u'}\n",
    "value = []\n",
    "d = dict.fromkeys(keys,value)\n",
    "print d"
   ]
  },
  {
   "cell_type": "markdown",
   "metadata": {},
   "source": [
    "## 用字典实现 switch … case 语句"
   ]
  },
  {
   "cell_type": "markdown",
   "metadata": {},
   "source": [
    "Python 中没有 switch … case 语句，这个问题Python之父龟叔表示这个语法过去没有，现在没有，以后也不会有。因为Python简洁的语法完全可以用 if … elif 实现。如果有太多的分支判断，还可以使用字典来代替。"
   ]
  },
  {
   "cell_type": "code",
   "execution_count": 32,
   "metadata": {
    "ExecuteTime": {
     "end_time": "2018-04-22T08:56:02.391437Z",
     "start_time": "2018-04-22T08:56:02.380286Z"
    }
   },
   "outputs": [
    {
     "data": {
      "text/plain": [
       "'one'"
      ]
     },
     "execution_count": 32,
     "metadata": {},
     "output_type": "execute_result"
    }
   ],
   "source": [
    "data = {\n",
    "    0:'zero',\n",
    "    1:'one',\n",
    "    2:'two'\n",
    "}\n",
    "data.get(1,'nothing')"
   ]
  },
  {
   "cell_type": "markdown",
   "metadata": {},
   "source": [
    "## 使用 iteritems 迭代字典中的元素"
   ]
  },
  {
   "cell_type": "markdown",
   "metadata": {},
   "source": [
    "python提供了几种方式迭代字典中的元素，第一种是使用 items 方法："
   ]
  },
  {
   "cell_type": "code",
   "execution_count": 33,
   "metadata": {
    "ExecuteTime": {
     "end_time": "2018-04-22T08:58:49.430473Z",
     "start_time": "2018-04-22T08:58:49.419607Z"
    }
   },
   "outputs": [
    {
     "name": "stdout",
     "output_type": "stream",
     "text": [
      "0 zero\n",
      "1 one\n",
      "2 two\n"
     ]
    }
   ],
   "source": [
    "d = {\n",
    "    0: \"zero\",\n",
    "    1: \"one\",\n",
    "    2: \"two\",\n",
    "}\n",
    "\n",
    "for k,v in d.items():\n",
    "    print k,v"
   ]
  },
  {
   "cell_type": "markdown",
   "metadata": {},
   "source": [
    "items 方法返回的时（key ,value）组成的列表对象，这种方式的弊端是迭代超大字典的时候，内存瞬间会扩大两倍，因为列表对象会一次性把所有元素加载到内存，更好的方式是使用 iteritems"
   ]
  },
  {
   "cell_type": "code",
   "execution_count": 34,
   "metadata": {
    "ExecuteTime": {
     "end_time": "2018-04-22T08:59:15.846494Z",
     "start_time": "2018-04-22T08:59:15.842137Z"
    }
   },
   "outputs": [
    {
     "name": "stdout",
     "output_type": "stream",
     "text": [
      "0 zero\n",
      "1 one\n",
      "2 two\n"
     ]
    }
   ],
   "source": [
    "for k,v in d.iteritems():\n",
    "    print k,v"
   ]
  },
  {
   "cell_type": "markdown",
   "metadata": {},
   "source": [
    "iteritems 返回的是迭代器对象，迭代器对象具有惰性加载的特性，只有真正需要的时候才生成值，这种方式在迭代过程中不需要额外的内存来装载这些数据。注意 Python3 中，只有 items 方法了，它等价于 Python2 中的 iteritems，而 iteritems 这个方法名被移除了。"
   ]
  },
  {
   "cell_type": "markdown",
   "metadata": {},
   "source": [
    "## 使用字典推导式"
   ]
  },
  {
   "cell_type": "code",
   "execution_count": 35,
   "metadata": {
    "ExecuteTime": {
     "end_time": "2018-04-22T09:01:11.586655Z",
     "start_time": "2018-04-22T09:01:11.582900Z"
    }
   },
   "outputs": [],
   "source": [
    "# bad\n",
    "numbers = [1,2,3]\n",
    "d = dict([(number,number*2) for number in numbers])"
   ]
  },
  {
   "cell_type": "code",
   "execution_count": 37,
   "metadata": {
    "ExecuteTime": {
     "end_time": "2018-04-22T09:02:24.572570Z",
     "start_time": "2018-04-22T09:02:24.568957Z"
    }
   },
   "outputs": [],
   "source": [
    "# good\n",
    "numbers = [1,2,3]\n",
    "d = {number:number*2 for number in numbers}"
   ]
  },
  {
   "cell_type": "code",
   "execution_count": 38,
   "metadata": {
    "ExecuteTime": {
     "end_time": "2018-04-22T09:02:35.770463Z",
     "start_time": "2018-04-22T09:02:35.766141Z"
    }
   },
   "outputs": [
    {
     "data": {
      "text/plain": [
       "{1: 2, 2: 4, 3: 6}"
      ]
     },
     "execution_count": 38,
     "metadata": {},
     "output_type": "execute_result"
    }
   ],
   "source": [
    "d"
   ]
  }
 ],
 "metadata": {
  "kernelspec": {
   "display_name": "Python 2",
   "language": "python",
   "name": "python2"
  },
  "language_info": {
   "codemirror_mode": {
    "name": "ipython",
    "version": 2
   },
   "file_extension": ".py",
   "mimetype": "text/x-python",
   "name": "python",
   "nbconvert_exporter": "python",
   "pygments_lexer": "ipython2",
   "version": "2.7.12"
  },
  "nbTranslate": {
   "displayLangs": [
    "*"
   ],
   "hotkey": "alt-t",
   "langInMainMenu": true,
   "sourceLang": "en",
   "targetLang": "fr",
   "useGoogleTranslate": true
  },
  "toc": {
   "nav_menu": {},
   "number_sections": true,
   "sideBar": true,
   "skip_h1_title": true,
   "toc_cell": false,
   "toc_position": {},
   "toc_section_display": "block",
   "toc_window_display": false
  },
  "varInspector": {
   "cols": {
    "lenName": 16,
    "lenType": 16,
    "lenVar": 40
   },
   "kernels_config": {
    "python": {
     "delete_cmd_postfix": "",
     "delete_cmd_prefix": "del ",
     "library": "var_list.py",
     "varRefreshCmd": "print(var_dic_list())"
    },
    "r": {
     "delete_cmd_postfix": ") ",
     "delete_cmd_prefix": "rm(",
     "library": "var_list.r",
     "varRefreshCmd": "cat(var_dic_list()) "
    }
   },
   "types_to_exclude": [
    "module",
    "function",
    "builtin_function_or_method",
    "instance",
    "_Feature"
   ],
   "window_display": false
  }
 },
 "nbformat": 4,
 "nbformat_minor": 2
}
